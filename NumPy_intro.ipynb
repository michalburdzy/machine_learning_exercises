{
 "cells": [
  {
   "cell_type": "code",
   "execution_count": 4,
   "id": "d84247ed",
   "metadata": {},
   "outputs": [],
   "source": [
    "import numpy as np"
   ]
  },
  {
   "cell_type": "markdown",
   "id": "5d7cfb8e",
   "metadata": {},
   "source": [
    "## Data Types and Attributes"
   ]
  },
  {
   "cell_type": "markdown",
   "id": "d38a6a67",
   "metadata": {},
   "source": [
    "# NumPy's main datatype is \"ndarray\""
   ]
  },
  {
   "cell_type": "code",
   "execution_count": 2,
   "id": "5cf76977",
   "metadata": {},
   "outputs": [
    {
     "data": {
      "text/plain": [
       "array([1, 2, 3])"
      ]
     },
     "execution_count": 2,
     "metadata": {},
     "output_type": "execute_result"
    }
   ],
   "source": [
    "a1 = np.array([1,2,3])\n",
    "a1"
   ]
  },
  {
   "cell_type": "code",
   "execution_count": 3,
   "id": "a8bf4bc0",
   "metadata": {},
   "outputs": [
    {
     "data": {
      "text/plain": [
       "numpy.ndarray"
      ]
     },
     "execution_count": 3,
     "metadata": {},
     "output_type": "execute_result"
    }
   ],
   "source": [
    "type(a1)"
   ]
  },
  {
   "cell_type": "code",
   "execution_count": 6,
   "id": "240191c4",
   "metadata": {},
   "outputs": [
    {
     "data": {
      "text/plain": [
       "array([[[ 1,  2,  3],\n",
       "        [ 4,  5,  6],\n",
       "        [ 7,  8,  9]],\n",
       "\n",
       "       [[10, 11, 12],\n",
       "        [13, 14, 15],\n",
       "        [16, 17, 18]]])"
      ]
     },
     "execution_count": 6,
     "metadata": {},
     "output_type": "execute_result"
    }
   ],
   "source": [
    "a2 = np.array([[1,2.0, 3.6], [4,5,6.9]])\n",
    "a3 = np.array([\n",
    "    [\n",
    "        [1,2,3],[4,5,6],[7,8,9],\n",
    "    ],\n",
    "    [\n",
    "        [10,11,12],[13,14,15],[16,17,18],\n",
    "    ]\n",
    "])\n",
    "\n",
    "a3"
   ]
  },
  {
   "cell_type": "code",
   "execution_count": 7,
   "id": "39fbb321",
   "metadata": {},
   "outputs": [
    {
     "data": {
      "text/plain": [
       "(3,)"
      ]
     },
     "execution_count": 7,
     "metadata": {},
     "output_type": "execute_result"
    }
   ],
   "source": [
    "a1.shape"
   ]
  },
  {
   "cell_type": "code",
   "execution_count": 8,
   "id": "b6418e7f",
   "metadata": {},
   "outputs": [
    {
     "data": {
      "text/plain": [
       "(2, 3)"
      ]
     },
     "execution_count": 8,
     "metadata": {},
     "output_type": "execute_result"
    }
   ],
   "source": [
    "a2.shape"
   ]
  },
  {
   "cell_type": "code",
   "execution_count": 9,
   "id": "0cd10546",
   "metadata": {},
   "outputs": [
    {
     "data": {
      "text/plain": [
       "(2, 3, 3)"
      ]
     },
     "execution_count": 9,
     "metadata": {},
     "output_type": "execute_result"
    }
   ],
   "source": [
    "a3.shape"
   ]
  },
  {
   "cell_type": "code",
   "execution_count": 10,
   "id": "24fdaf02",
   "metadata": {},
   "outputs": [
    {
     "data": {
      "text/plain": [
       "1"
      ]
     },
     "execution_count": 10,
     "metadata": {},
     "output_type": "execute_result"
    }
   ],
   "source": [
    "a1.ndim"
   ]
  },
  {
   "cell_type": "code",
   "execution_count": 11,
   "id": "8ed0c722",
   "metadata": {},
   "outputs": [
    {
     "data": {
      "text/plain": [
       "2"
      ]
     },
     "execution_count": 11,
     "metadata": {},
     "output_type": "execute_result"
    }
   ],
   "source": [
    "a2.ndim"
   ]
  },
  {
   "cell_type": "code",
   "execution_count": 12,
   "id": "3dba8caa",
   "metadata": {},
   "outputs": [
    {
     "data": {
      "text/plain": [
       "3"
      ]
     },
     "execution_count": 12,
     "metadata": {},
     "output_type": "execute_result"
    }
   ],
   "source": [
    "a3.ndim"
   ]
  },
  {
   "cell_type": "code",
   "execution_count": 13,
   "id": "1d20bd80",
   "metadata": {},
   "outputs": [
    {
     "data": {
      "text/plain": [
       "dtype('int64')"
      ]
     },
     "execution_count": 13,
     "metadata": {},
     "output_type": "execute_result"
    }
   ],
   "source": [
    "a1.dtype"
   ]
  },
  {
   "cell_type": "code",
   "execution_count": 14,
   "id": "7db13622",
   "metadata": {},
   "outputs": [
    {
     "data": {
      "text/plain": [
       "dtype('float64')"
      ]
     },
     "execution_count": 14,
     "metadata": {},
     "output_type": "execute_result"
    }
   ],
   "source": [
    "a2.dtype"
   ]
  },
  {
   "cell_type": "code",
   "execution_count": 15,
   "id": "dd2a3013",
   "metadata": {},
   "outputs": [
    {
     "data": {
      "text/plain": [
       "dtype('int64')"
      ]
     },
     "execution_count": 15,
     "metadata": {},
     "output_type": "execute_result"
    }
   ],
   "source": [
    "a3.dtype"
   ]
  },
  {
   "cell_type": "code",
   "execution_count": 16,
   "id": "13ab9a11",
   "metadata": {},
   "outputs": [
    {
     "data": {
      "text/plain": [
       "3"
      ]
     },
     "execution_count": 16,
     "metadata": {},
     "output_type": "execute_result"
    }
   ],
   "source": [
    "a1.size"
   ]
  },
  {
   "cell_type": "code",
   "execution_count": 17,
   "id": "e2039f43",
   "metadata": {},
   "outputs": [
    {
     "data": {
      "text/plain": [
       "6"
      ]
     },
     "execution_count": 17,
     "metadata": {},
     "output_type": "execute_result"
    }
   ],
   "source": [
    "a2.size"
   ]
  },
  {
   "cell_type": "code",
   "execution_count": 18,
   "id": "2afd45d0",
   "metadata": {},
   "outputs": [
    {
     "data": {
      "text/plain": [
       "18"
      ]
     },
     "execution_count": 18,
     "metadata": {},
     "output_type": "execute_result"
    }
   ],
   "source": [
    "a3.size"
   ]
  },
  {
   "cell_type": "code",
   "execution_count": 19,
   "id": "2748a94b",
   "metadata": {},
   "outputs": [
    {
     "data": {
      "text/plain": [
       "numpy.ndarray"
      ]
     },
     "execution_count": 19,
     "metadata": {},
     "output_type": "execute_result"
    }
   ],
   "source": [
    "type(a1)"
   ]
  },
  {
   "cell_type": "markdown",
   "id": "114afa01",
   "metadata": {},
   "source": [
    "## Create a DataFrame from NumPy array "
   ]
  },
  {
   "cell_type": "code",
   "execution_count": 20,
   "id": "82dfa50c",
   "metadata": {},
   "outputs": [
    {
     "ename": "NameError",
     "evalue": "name 'a1' is not defined",
     "output_type": "error",
     "traceback": [
      "\u001b[0;31m---------------------------------------------------------------------------\u001b[0m",
      "\u001b[0;31mNameError\u001b[0m                                 Traceback (most recent call last)",
      "Cell \u001b[0;32mIn[20], line 3\u001b[0m\n\u001b[1;32m      1\u001b[0m \u001b[38;5;28;01mimport\u001b[39;00m \u001b[38;5;21;01mpandas\u001b[39;00m \u001b[38;5;28;01mas\u001b[39;00m \u001b[38;5;21;01mpd\u001b[39;00m\n\u001b[0;32m----> 3\u001b[0m df1 \u001b[38;5;241m=\u001b[39m pd\u001b[38;5;241m.\u001b[39mDataFrame(\u001b[43ma1\u001b[49m)\n\u001b[1;32m      4\u001b[0m df1\n",
      "\u001b[0;31mNameError\u001b[0m: name 'a1' is not defined"
     ]
    }
   ],
   "source": [
    "import pandas as pd\n",
    "\n",
    "df1 = pd.DataFrame(a1)\n",
    "df1"
   ]
  },
  {
   "cell_type": "code",
   "execution_count": 22,
   "id": "a0704a1a",
   "metadata": {},
   "outputs": [
    {
     "data": {
      "text/html": [
       "<div>\n",
       "<style scoped>\n",
       "    .dataframe tbody tr th:only-of-type {\n",
       "        vertical-align: middle;\n",
       "    }\n",
       "\n",
       "    .dataframe tbody tr th {\n",
       "        vertical-align: top;\n",
       "    }\n",
       "\n",
       "    .dataframe thead th {\n",
       "        text-align: right;\n",
       "    }\n",
       "</style>\n",
       "<table border=\"1\" class=\"dataframe\">\n",
       "  <thead>\n",
       "    <tr style=\"text-align: right;\">\n",
       "      <th></th>\n",
       "      <th>0</th>\n",
       "      <th>1</th>\n",
       "      <th>2</th>\n",
       "    </tr>\n",
       "  </thead>\n",
       "  <tbody>\n",
       "    <tr>\n",
       "      <th>0</th>\n",
       "      <td>1.0</td>\n",
       "      <td>2.0</td>\n",
       "      <td>3.6</td>\n",
       "    </tr>\n",
       "    <tr>\n",
       "      <th>1</th>\n",
       "      <td>4.0</td>\n",
       "      <td>5.0</td>\n",
       "      <td>6.9</td>\n",
       "    </tr>\n",
       "  </tbody>\n",
       "</table>\n",
       "</div>"
      ],
      "text/plain": [
       "     0    1    2\n",
       "0  1.0  2.0  3.6\n",
       "1  4.0  5.0  6.9"
      ]
     },
     "execution_count": 22,
     "metadata": {},
     "output_type": "execute_result"
    }
   ],
   "source": [
    "df2 = pd.DataFrame(a2)\n",
    "df2"
   ]
  },
  {
   "cell_type": "markdown",
   "id": "1e460667",
   "metadata": {},
   "source": [
    "## Creating Arrays"
   ]
  },
  {
   "cell_type": "code",
   "execution_count": 25,
   "id": "0d396dd5",
   "metadata": {},
   "outputs": [
    {
     "data": {
      "text/plain": [
       "array([1, 2, 3])"
      ]
     },
     "execution_count": 25,
     "metadata": {},
     "output_type": "execute_result"
    }
   ],
   "source": [
    "sample_array = np.array([1,2,3])\n",
    "sample_array"
   ]
  },
  {
   "cell_type": "code",
   "execution_count": 27,
   "id": "aabf7982",
   "metadata": {},
   "outputs": [
    {
     "data": {
      "text/plain": [
       "array([[1., 1., 1.],\n",
       "       [1., 1., 1.]])"
      ]
     },
     "execution_count": 27,
     "metadata": {},
     "output_type": "execute_result"
    }
   ],
   "source": [
    "ones = np.ones((2,3))\n",
    "ones"
   ]
  },
  {
   "cell_type": "code",
   "execution_count": 28,
   "id": "a7118683",
   "metadata": {},
   "outputs": [
    {
     "data": {
      "text/plain": [
       "dtype('float64')"
      ]
     },
     "execution_count": 28,
     "metadata": {},
     "output_type": "execute_result"
    }
   ],
   "source": [
    "ones.dtype"
   ]
  },
  {
   "cell_type": "code",
   "execution_count": 29,
   "id": "fc37b80a",
   "metadata": {},
   "outputs": [
    {
     "data": {
      "text/plain": [
       "numpy.ndarray"
      ]
     },
     "execution_count": 29,
     "metadata": {},
     "output_type": "execute_result"
    }
   ],
   "source": [
    "type(ones)"
   ]
  },
  {
   "cell_type": "code",
   "execution_count": 31,
   "id": "569b1bb2",
   "metadata": {},
   "outputs": [
    {
     "data": {
      "text/plain": [
       "array([[0., 0., 0.],\n",
       "       [0., 0., 0.],\n",
       "       [0., 0., 0.]])"
      ]
     },
     "execution_count": 31,
     "metadata": {},
     "output_type": "execute_result"
    }
   ],
   "source": [
    "zeros = np.zeros((3,3))\n",
    "zeros"
   ]
  },
  {
   "cell_type": "code",
   "execution_count": 32,
   "id": "aa324791",
   "metadata": {},
   "outputs": [
    {
     "data": {
      "text/plain": [
       "array([2. , 2.5, 3. , 3.5, 4. , 4.5, 5. , 5.5, 6. , 6.5, 7. , 7.5, 8. ,\n",
       "       8.5])"
      ]
     },
     "execution_count": 32,
     "metadata": {},
     "output_type": "execute_result"
    }
   ],
   "source": [
    "range_array = np.arange(2,9,0.5)\n",
    "range_array"
   ]
  },
  {
   "cell_type": "code",
   "execution_count": 35,
   "id": "6d530923",
   "metadata": {},
   "outputs": [
    {
     "data": {
      "text/plain": [
       "array([[7, 8, 6, 7, 4],\n",
       "       [1, 9, 8, 6, 3],\n",
       "       [1, 3, 1, 4, 7]])"
      ]
     },
     "execution_count": 35,
     "metadata": {},
     "output_type": "execute_result"
    }
   ],
   "source": [
    "random_array = np.random.randint(1,10,size=(3,5))\n",
    "random_array"
   ]
  },
  {
   "cell_type": "code",
   "execution_count": 36,
   "id": "17227e61",
   "metadata": {},
   "outputs": [
    {
     "data": {
      "text/plain": [
       "15"
      ]
     },
     "execution_count": 36,
     "metadata": {},
     "output_type": "execute_result"
    }
   ],
   "source": [
    "random_array.size"
   ]
  },
  {
   "cell_type": "code",
   "execution_count": 37,
   "id": "d162b9ba",
   "metadata": {},
   "outputs": [
    {
     "data": {
      "text/plain": [
       "(3, 5)"
      ]
     },
     "execution_count": 37,
     "metadata": {},
     "output_type": "execute_result"
    }
   ],
   "source": [
    "random_array.shape"
   ]
  },
  {
   "cell_type": "code",
   "execution_count": 38,
   "id": "83b18d92",
   "metadata": {},
   "outputs": [
    {
     "data": {
      "text/plain": [
       "array([[0.11636796, 0.39467724, 0.25560455],\n",
       "       [0.33632539, 0.41440141, 0.28648213],\n",
       "       [0.16876197, 0.70574689, 0.4703938 ],\n",
       "       [0.52982999, 0.17551106, 0.86414129],\n",
       "       [0.42950508, 0.27704981, 0.67711394]])"
      ]
     },
     "execution_count": 38,
     "metadata": {},
     "output_type": "execute_result"
    }
   ],
   "source": [
    "random_array_2 = np.random.random((5,3))\n",
    "random_array_2"
   ]
  },
  {
   "cell_type": "code",
   "execution_count": 51,
   "id": "fe7e1f77",
   "metadata": {},
   "outputs": [
    {
     "data": {
      "text/plain": [
       "array([[0.07630829, 0.77991879, 0.43840923],\n",
       "       [0.72346518, 0.97798951, 0.53849587],\n",
       "       [0.50112046, 0.07205113, 0.26843898],\n",
       "       [0.4998825 , 0.67923   , 0.80373904],\n",
       "       [0.38094113, 0.06593635, 0.2881456 ]])"
      ]
     },
     "execution_count": 51,
     "metadata": {},
     "output_type": "execute_result"
    }
   ],
   "source": [
    "# Seed works only for the given cell\n",
    "np.random.seed(7)\n",
    "np.random.random((5,3))"
   ]
  },
  {
   "cell_type": "code",
   "execution_count": 52,
   "id": "dc35accf",
   "metadata": {},
   "outputs": [
    {
     "data": {
      "text/plain": [
       "array([[0.90959353, 0.21338535, 0.45212396],\n",
       "       [0.93120602, 0.02489923, 0.60054892],\n",
       "       [0.9501295 , 0.23030288, 0.54848992],\n",
       "       [0.90912837, 0.13316945, 0.52341258],\n",
       "       [0.75040986, 0.66901324, 0.46775286]])"
      ]
     },
     "execution_count": 52,
     "metadata": {},
     "output_type": "execute_result"
    }
   ],
   "source": [
    "# Seed works only for the given cell\n",
    "np.random.random((5,3))"
   ]
  },
  {
   "cell_type": "markdown",
   "id": "a51d3af9",
   "metadata": {},
   "source": [
    "## Viewing arrays and matrices"
   ]
  },
  {
   "cell_type": "code",
   "execution_count": 61,
   "id": "877f26a2",
   "metadata": {},
   "outputs": [
    {
     "data": {
      "text/plain": [
       "(array([[4, 7, 5],\n",
       "        [9, 6, 2],\n",
       "        [0, 5, 3],\n",
       "        [0, 5, 7],\n",
       "        [1, 8, 4]]),\n",
       " array([0, 1, 2, 3, 4, 5, 6, 7, 8, 9]))"
      ]
     },
     "execution_count": 61,
     "metadata": {},
     "output_type": "execute_result"
    }
   ],
   "source": [
    "rand_arr_4 = np.random.randint(0,10,(5,3))\n",
    "\n",
    "unique_els = np.unique(rand_arr_4)\n",
    "rand_arr_4, unique_els"
   ]
  },
  {
   "cell_type": "code",
   "execution_count": 62,
   "id": "0e5a096e",
   "metadata": {},
   "outputs": [
    {
     "data": {
      "text/plain": [
       "array([1, 2, 3])"
      ]
     },
     "execution_count": 62,
     "metadata": {},
     "output_type": "execute_result"
    }
   ],
   "source": [
    "a1"
   ]
  },
  {
   "cell_type": "code",
   "execution_count": 63,
   "id": "3ef6b216",
   "metadata": {},
   "outputs": [
    {
     "data": {
      "text/plain": [
       "1"
      ]
     },
     "execution_count": 63,
     "metadata": {},
     "output_type": "execute_result"
    }
   ],
   "source": [
    "a1[0]"
   ]
  },
  {
   "cell_type": "code",
   "execution_count": 64,
   "id": "5f62285e",
   "metadata": {},
   "outputs": [
    {
     "data": {
      "text/plain": [
       "1.0"
      ]
     },
     "execution_count": 64,
     "metadata": {},
     "output_type": "execute_result"
    }
   ],
   "source": [
    "a2[0][0]"
   ]
  },
  {
   "cell_type": "code",
   "execution_count": 65,
   "id": "183f56f1",
   "metadata": {},
   "outputs": [
    {
     "data": {
      "text/plain": [
       "1"
      ]
     },
     "execution_count": 65,
     "metadata": {},
     "output_type": "execute_result"
    }
   ],
   "source": [
    "a3[0][0][0]"
   ]
  },
  {
   "cell_type": "code",
   "execution_count": 75,
   "id": "a8338b03",
   "metadata": {},
   "outputs": [
    {
     "data": {
      "text/plain": [
       "array([[[ 1,  2,  3],\n",
       "        [ 4,  5,  6],\n",
       "        [ 7,  8,  9]],\n",
       "\n",
       "       [[10, 11, 12],\n",
       "        [13, 14, 15],\n",
       "        [16, 17, 18]]])"
      ]
     },
     "execution_count": 75,
     "metadata": {},
     "output_type": "execute_result"
    }
   ],
   "source": [
    "a3[:2]"
   ]
  },
  {
   "cell_type": "code",
   "execution_count": 76,
   "id": "7467a793",
   "metadata": {},
   "outputs": [
    {
     "data": {
      "text/plain": [
       "array([[[ 1,  2,  3],\n",
       "        [ 4,  5,  6]],\n",
       "\n",
       "       [[10, 11, 12],\n",
       "        [13, 14, 15]]])"
      ]
     },
     "execution_count": 76,
     "metadata": {},
     "output_type": "execute_result"
    }
   ],
   "source": [
    "a3[:2, :2]"
   ]
  },
  {
   "cell_type": "code",
   "execution_count": 77,
   "id": "d32f63fe",
   "metadata": {},
   "outputs": [
    {
     "data": {
      "text/plain": [
       "array([[[ 1,  2],\n",
       "        [ 4,  5]],\n",
       "\n",
       "       [[10, 11],\n",
       "        [13, 14]]])"
      ]
     },
     "execution_count": 77,
     "metadata": {},
     "output_type": "execute_result"
    }
   ],
   "source": [
    "a3[:2, :2, :2]"
   ]
  },
  {
   "cell_type": "code",
   "execution_count": 78,
   "id": "43f712af",
   "metadata": {},
   "outputs": [
    {
     "data": {
      "text/plain": [
       "array([[[[9, 0, 2, 0, 7],\n",
       "         [6, 2, 9, 9, 5],\n",
       "         [1, 0, 0, 9, 1],\n",
       "         [1, 5, 3, 2, 0]],\n",
       "\n",
       "        [[4, 8, 7, 1, 4],\n",
       "         [9, 3, 6, 7, 1],\n",
       "         [0, 2, 7, 0, 0],\n",
       "         [9, 8, 2, 0, 5]],\n",
       "\n",
       "        [[5, 0, 9, 0, 8],\n",
       "         [4, 5, 1, 4, 0],\n",
       "         [7, 2, 0, 3, 9],\n",
       "         [8, 3, 7, 1, 0]]],\n",
       "\n",
       "\n",
       "       [[[1, 4, 6, 1, 0],\n",
       "         [1, 0, 1, 8, 4],\n",
       "         [1, 6, 8, 5, 2],\n",
       "         [4, 7, 4, 1, 2]],\n",
       "\n",
       "        [[8, 5, 2, 9, 6],\n",
       "         [2, 5, 7, 7, 5],\n",
       "         [5, 6, 0, 6, 4],\n",
       "         [6, 2, 6, 8, 7]],\n",
       "\n",
       "        [[0, 5, 8, 9, 7],\n",
       "         [7, 6, 2, 5, 6],\n",
       "         [1, 9, 3, 4, 0],\n",
       "         [3, 5, 6, 4, 0]]]])"
      ]
     },
     "execution_count": 78,
     "metadata": {},
     "output_type": "execute_result"
    }
   ],
   "source": [
    "a4 = np.random.randint(10,size=(2,3,4,5))\n",
    "a4"
   ]
  },
  {
   "cell_type": "code",
   "execution_count": 79,
   "id": "a66f1717",
   "metadata": {},
   "outputs": [
    {
     "data": {
      "text/plain": [
       "((2, 3, 4, 5), 4)"
      ]
     },
     "execution_count": 79,
     "metadata": {},
     "output_type": "execute_result"
    }
   ],
   "source": [
    "a4.shape, a4.ndim"
   ]
  },
  {
   "cell_type": "code",
   "execution_count": 80,
   "id": "f7167a6b",
   "metadata": {},
   "outputs": [
    {
     "data": {
      "text/plain": [
       "array([8, 5, 2, 9])"
      ]
     },
     "execution_count": 80,
     "metadata": {},
     "output_type": "execute_result"
    }
   ],
   "source": [
    "a4[1][1][0][:4]"
   ]
  },
  {
   "cell_type": "code",
   "execution_count": 81,
   "id": "5598b38e",
   "metadata": {},
   "outputs": [
    {
     "data": {
      "text/plain": [
       "array([8, 5, 2, 9])"
      ]
     },
     "execution_count": 81,
     "metadata": {},
     "output_type": "execute_result"
    }
   ],
   "source": [
    "a4[1, 1, 0, :4]"
   ]
  },
  {
   "cell_type": "markdown",
   "id": "01b1fde1",
   "metadata": {},
   "source": [
    "## Arithmetic"
   ]
  },
  {
   "cell_type": "code",
   "execution_count": 4,
   "id": "e52a1210",
   "metadata": {},
   "outputs": [],
   "source": [
    "arr1 = np.array([1,2,3,4])\n",
    "arr2 = np.array([9,8,7,6])"
   ]
  },
  {
   "cell_type": "code",
   "execution_count": 5,
   "id": "8bde5230",
   "metadata": {},
   "outputs": [
    {
     "data": {
      "text/plain": [
       "array([10, 10, 10, 10])"
      ]
     },
     "execution_count": 5,
     "metadata": {},
     "output_type": "execute_result"
    }
   ],
   "source": [
    "arr1+arr2"
   ]
  },
  {
   "cell_type": "code",
   "execution_count": 6,
   "id": "cfb93a83",
   "metadata": {},
   "outputs": [
    {
     "data": {
      "text/plain": [
       "array([ 9, 16, 21, 24])"
      ]
     },
     "execution_count": 6,
     "metadata": {},
     "output_type": "execute_result"
    }
   ],
   "source": [
    "arr1*arr2"
   ]
  },
  {
   "cell_type": "code",
   "execution_count": 9,
   "id": "65507470",
   "metadata": {},
   "outputs": [
    {
     "data": {
      "text/plain": [
       "array([[[7, 7, 3, 3, 3],\n",
       "        [7, 1, 7, 1, 1],\n",
       "        [2, 6, 7, 5, 6],\n",
       "        [4, 8, 5, 0, 3]],\n",
       "\n",
       "       [[6, 7, 6, 6, 7],\n",
       "        [5, 7, 8, 0, 7],\n",
       "        [7, 3, 0, 4, 4],\n",
       "        [4, 3, 2, 1, 0]],\n",
       "\n",
       "       [[8, 4, 7, 0, 0],\n",
       "        [1, 5, 7, 8, 7],\n",
       "        [2, 5, 8, 6, 1],\n",
       "        [2, 8, 2, 3, 8]]])"
      ]
     },
     "execution_count": 9,
     "metadata": {},
     "output_type": "execute_result"
    }
   ],
   "source": [
    "arr3 = np.random.randint(0,9,size=(3,4,5))\n",
    "arr3"
   ]
  },
  {
   "cell_type": "code",
   "execution_count": 13,
   "id": "6c06d1e9",
   "metadata": {
    "scrolled": true
   },
   "outputs": [
    {
     "data": {
      "text/plain": [
       "array([[[0.88407664, 0.37028764, 0.21029995, 0.63763073, 0.82619292],\n",
       "        [0.66218118, 0.30533889, 0.60002403, 0.35599184, 0.69310933],\n",
       "        [0.29226937, 0.90269361, 0.78635123, 0.66414113, 0.49880318],\n",
       "        [0.44128506, 0.35444453, 0.15354712, 0.82566704, 0.21577262]],\n",
       "\n",
       "       [[0.8638536 , 0.53103342, 0.99380119, 0.59021307, 0.71129848],\n",
       "        [0.81508008, 0.57766767, 0.72798364, 0.35300892, 0.23681825],\n",
       "        [0.32779561, 0.43116237, 0.25490459, 0.3956037 , 0.55050626],\n",
       "        [0.64148079, 0.77533203, 0.30542596, 0.75880486, 0.64923326]],\n",
       "\n",
       "       [[0.6153514 , 0.85314562, 0.51120157, 0.6708124 , 0.89681096],\n",
       "        [0.61299022, 0.65065392, 0.85042313, 0.21888953, 0.79454546],\n",
       "        [0.54766446, 0.86961239, 0.33831241, 0.4774735 , 0.06791974],\n",
       "        [0.35333112, 0.93230822, 0.24830344, 0.10976962, 0.42195374]]])"
      ]
     },
     "execution_count": 13,
     "metadata": {},
     "output_type": "execute_result"
    }
   ],
   "source": [
    "arr4 = np.random.random((3,4,5))\n",
    "arr4"
   ]
  },
  {
   "cell_type": "code",
   "execution_count": 14,
   "id": "e865ce22",
   "metadata": {},
   "outputs": [
    {
     "data": {
      "text/plain": [
       "array([[[6.1885365 , 2.59201345, 0.63089985, 1.91289219, 2.47857877],\n",
       "        [4.63526824, 0.30533889, 4.2001682 , 0.35599184, 0.69310933],\n",
       "        [0.58453874, 5.41616169, 5.50445863, 3.32070564, 2.99281907],\n",
       "        [1.76514026, 2.83555624, 0.76773562, 0.        , 0.64731787]],\n",
       "\n",
       "       [[5.18312158, 3.71723396, 5.96280715, 3.54127841, 4.97908937],\n",
       "        [4.07540042, 4.04367366, 5.82386913, 0.        , 1.65772772],\n",
       "        [2.29456925, 1.29348712, 0.        , 1.5824148 , 2.20202506],\n",
       "        [2.56592316, 2.3259961 , 0.61085193, 0.75880486, 0.        ]],\n",
       "\n",
       "       [[4.92281121, 3.41258248, 3.57841099, 0.        , 0.        ],\n",
       "        [0.61299022, 3.25326958, 5.95296191, 1.75111621, 5.56181824],\n",
       "        [1.09532892, 4.34806197, 2.70649929, 2.864841  , 0.06791974],\n",
       "        [0.70666224, 7.45846577, 0.49660689, 0.32930886, 3.37562995]]])"
      ]
     },
     "execution_count": 14,
     "metadata": {},
     "output_type": "execute_result"
    }
   ],
   "source": [
    "arr3*arr4"
   ]
  },
  {
   "cell_type": "code",
   "execution_count": 15,
   "id": "b29a0a17",
   "metadata": {},
   "outputs": [
    {
     "ename": "ValueError",
     "evalue": "operands could not be broadcast together with shapes (4,) (3,4,5) ",
     "output_type": "error",
     "traceback": [
      "\u001b[0;31m---------------------------------------------------------------------------\u001b[0m",
      "\u001b[0;31mValueError\u001b[0m                                Traceback (most recent call last)",
      "Cell \u001b[0;32mIn[15], line 1\u001b[0m\n\u001b[0;32m----> 1\u001b[0m \u001b[43marr1\u001b[49m\u001b[38;5;241;43m*\u001b[39;49m\u001b[43marr3\u001b[49m\n",
      "\u001b[0;31mValueError\u001b[0m: operands could not be broadcast together with shapes (4,) (3,4,5) "
     ]
    }
   ],
   "source": [
    "arr1*arr3"
   ]
  },
  {
   "cell_type": "code",
   "execution_count": 16,
   "id": "725f3eec",
   "metadata": {},
   "outputs": [
    {
     "data": {
      "text/plain": [
       "array([[8, 2, 8, 4],\n",
       "       [1, 0, 5, 8],\n",
       "       [5, 5, 6, 1]])"
      ]
     },
     "execution_count": 16,
     "metadata": {},
     "output_type": "execute_result"
    }
   ],
   "source": [
    "arr4=np.random.randint(0,9,size=(3,4))\n",
    "arr4"
   ]
  },
  {
   "cell_type": "code",
   "execution_count": 17,
   "id": "7482284f",
   "metadata": {},
   "outputs": [
    {
     "ename": "ValueError",
     "evalue": "operands could not be broadcast together with shapes (3,4) (3,4,5) ",
     "output_type": "error",
     "traceback": [
      "\u001b[0;31m---------------------------------------------------------------------------\u001b[0m",
      "\u001b[0;31mValueError\u001b[0m                                Traceback (most recent call last)",
      "Cell \u001b[0;32mIn[17], line 1\u001b[0m\n\u001b[0;32m----> 1\u001b[0m \u001b[43marr4\u001b[49m\u001b[38;5;241;43m*\u001b[39;49m\u001b[43marr3\u001b[49m\n",
      "\u001b[0;31mValueError\u001b[0m: operands could not be broadcast together with shapes (3,4) (3,4,5) "
     ]
    }
   ],
   "source": [
    "arr4*arr3"
   ]
  },
  {
   "cell_type": "code",
   "execution_count": 19,
   "id": "0c1ae626",
   "metadata": {},
   "outputs": [
    {
     "data": {
      "text/plain": [
       "(array([1, 2, 3, 4]),\n",
       " array([[8, 2, 8, 4],\n",
       "        [1, 0, 5, 8],\n",
       "        [5, 5, 6, 1]]))"
      ]
     },
     "execution_count": 19,
     "metadata": {},
     "output_type": "execute_result"
    }
   ],
   "source": [
    "arr1,arr4"
   ]
  },
  {
   "cell_type": "code",
   "execution_count": 18,
   "id": "8506b388",
   "metadata": {},
   "outputs": [
    {
     "data": {
      "text/plain": [
       "array([[ 8,  4, 24, 16],\n",
       "       [ 1,  0, 15, 32],\n",
       "       [ 5, 10, 18,  4]])"
      ]
     },
     "execution_count": 18,
     "metadata": {},
     "output_type": "execute_result"
    }
   ],
   "source": [
    "arr1*arr4"
   ]
  },
  {
   "cell_type": "code",
   "execution_count": 20,
   "id": "3d5c0725",
   "metadata": {},
   "outputs": [
    {
     "data": {
      "text/plain": [
       "array([[ 9,  4, 11,  8],\n",
       "       [ 2,  2,  8, 12],\n",
       "       [ 6,  7,  9,  5]])"
      ]
     },
     "execution_count": 20,
     "metadata": {},
     "output_type": "execute_result"
    }
   ],
   "source": [
    "arr1+arr4"
   ]
  },
  {
   "cell_type": "code",
   "execution_count": 21,
   "id": "4083c8cb",
   "metadata": {},
   "outputs": [
    {
     "data": {
      "text/plain": [
       "array([5, 7, 9])"
      ]
     },
     "execution_count": 21,
     "metadata": {},
     "output_type": "execute_result"
    }
   ],
   "source": [
    "arr8=np.array([1,2,3])\n",
    "arr9=np.array([4,5,6])\n",
    "arr8+arr9"
   ]
  },
  {
   "cell_type": "code",
   "execution_count": 22,
   "id": "bd95007c",
   "metadata": {},
   "outputs": [
    {
     "data": {
      "text/plain": [
       "array([0., 1.])"
      ]
     },
     "execution_count": 22,
     "metadata": {},
     "output_type": "execute_result"
    }
   ],
   "source": [
    "# Floor division (rounded down)\n",
    "np.array([1.45,7.54]) // np.array([9.43,5.82])"
   ]
  },
  {
   "cell_type": "code",
   "execution_count": 23,
   "id": "0835337d",
   "metadata": {},
   "outputs": [
    {
     "data": {
      "text/plain": [
       "array([  1,   4,   9,  16,  25,  36,  49,  64,  81, 100])"
      ]
     },
     "execution_count": 23,
     "metadata": {},
     "output_type": "execute_result"
    }
   ],
   "source": [
    "# Power\n",
    "np.array([1,2,3,4,5,6,7,8,9,10]) ** 2"
   ]
  },
  {
   "cell_type": "code",
   "execution_count": 24,
   "id": "ab1b00a4",
   "metadata": {},
   "outputs": [
    {
     "data": {
      "text/plain": [
       "array([  1,   4,   9,  16,  25,  36,  49,  64,  81, 100])"
      ]
     },
     "execution_count": 24,
     "metadata": {},
     "output_type": "execute_result"
    }
   ],
   "source": [
    "np.square(np.array([1,2,3,4,5,6,7,8,9,10]))"
   ]
  },
  {
   "cell_type": "code",
   "execution_count": 25,
   "id": "56e0cad0",
   "metadata": {},
   "outputs": [
    {
     "data": {
      "text/plain": [
       "array([1, 0, 1])"
      ]
     },
     "execution_count": 25,
     "metadata": {},
     "output_type": "execute_result"
    }
   ],
   "source": [
    "# modulo \n",
    "np.mod(arr8, 2)"
   ]
  },
  {
   "cell_type": "code",
   "execution_count": 33,
   "id": "e2277c60",
   "metadata": {},
   "outputs": [
    {
     "data": {
      "text/plain": [
       "('a:',\n",
       " array([[[4.17022005e-01, 7.20324493e-01, 1.14374817e-04, 3.02332573e-01],\n",
       "         [1.46755891e-01, 9.23385948e-02, 1.86260211e-01, 3.45560727e-01],\n",
       "         [3.96767474e-01, 5.38816734e-01, 4.19194514e-01, 6.85219500e-01]],\n",
       " \n",
       "        [[2.04452250e-01, 8.78117436e-01, 2.73875932e-02, 6.70467510e-01],\n",
       "         [4.17304802e-01, 5.58689828e-01, 1.40386939e-01, 1.98101489e-01],\n",
       "         [8.00744569e-01, 9.68261576e-01, 3.13424178e-01, 6.92322616e-01]]]),\n",
       " 'exp:',\n",
       " array([[[1.5174359 , 2.05509997, 1.00011438, 1.35301113],\n",
       "         [1.15807123, 1.09673611, 1.20473571, 1.41278188],\n",
       "         [1.48701012, 1.71397757, 1.52073613, 1.98420732]],\n",
       " \n",
       "        [[1.22685287, 2.4063653 , 1.02776608, 1.95515116],\n",
       "         [1.51786509, 1.74838032, 1.15071897, 1.21908611],\n",
       "         [2.22719861, 2.63336258, 1.36810173, 1.99835155]]]))"
      ]
     },
     "execution_count": 33,
     "metadata": {},
     "output_type": "execute_result"
    }
   ],
   "source": [
    "# Exponential\n",
    "np.random.seed(1)\n",
    "a = np.random.random((2,3,4))\n",
    "\"a:\", a, \"exp:\", np.exp(a)\n"
   ]
  },
  {
   "cell_type": "code",
   "execution_count": 34,
   "id": "3dc9f415",
   "metadata": {},
   "outputs": [
    {
     "data": {
      "text/plain": [
       "('b:',\n",
       " array([[[4.17022005e-01, 7.20324493e-01, 1.14374817e-04, 3.02332573e-01],\n",
       "         [1.46755891e-01, 9.23385948e-02, 1.86260211e-01, 3.45560727e-01],\n",
       "         [3.96767474e-01, 5.38816734e-01, 4.19194514e-01, 6.85219500e-01]],\n",
       " \n",
       "        [[2.04452250e-01, 8.78117436e-01, 2.73875932e-02, 6.70467510e-01],\n",
       "         [4.17304802e-01, 5.58689828e-01, 1.40386939e-01, 1.98101489e-01],\n",
       "         [8.00744569e-01, 9.68261576e-01, 3.13424178e-01, 6.92322616e-01]]]),\n",
       " 'log:',\n",
       " array([[[-0.87461629, -0.32805348, -9.07602963, -1.19622763],\n",
       "         [-1.91898468, -2.38229308, -1.6806106 , -1.06258689],\n",
       "         [-0.92440488, -0.61837978, -0.86942023, -0.37801605]],\n",
       " \n",
       "        [[-1.58742083, -0.12997494, -3.59766517, -0.39978003],\n",
       "         [-0.87393838, -0.58216083, -1.96335282, -1.61897581],\n",
       "         [-0.22221327, -0.03225301, -1.1601978 , -0.36770322]]]))"
      ]
     },
     "execution_count": 34,
     "metadata": {},
     "output_type": "execute_result"
    }
   ],
   "source": [
    "# Logarithmic\n",
    "np.random.seed(1)\n",
    "b=np.random.random((2,3,4))\n",
    "\"b:\", b, \"log:\", np.log(b)"
   ]
  },
  {
   "cell_type": "markdown",
   "id": "7ca74a08",
   "metadata": {},
   "source": [
    "## Aggregation"
   ]
  },
  {
   "cell_type": "code",
   "execution_count": 35,
   "id": "588eb32a",
   "metadata": {},
   "outputs": [
    {
     "data": {
      "text/plain": [
       "list"
      ]
     },
     "execution_count": 35,
     "metadata": {},
     "output_type": "execute_result"
    }
   ],
   "source": [
    "listy_list = [1,2,3]\n",
    "type(listy_list)"
   ]
  },
  {
   "cell_type": "code",
   "execution_count": 36,
   "id": "1b274332",
   "metadata": {},
   "outputs": [
    {
     "data": {
      "text/plain": [
       "6"
      ]
     },
     "execution_count": 36,
     "metadata": {},
     "output_type": "execute_result"
    }
   ],
   "source": [
    "sum(listy_list)"
   ]
  },
  {
   "cell_type": "code",
   "execution_count": 39,
   "id": "34b3fd68",
   "metadata": {},
   "outputs": [
    {
     "data": {
      "text/plain": [
       "array([1, 2, 3, 4])"
      ]
     },
     "execution_count": 39,
     "metadata": {},
     "output_type": "execute_result"
    }
   ],
   "source": [
    "arr1"
   ]
  },
  {
   "cell_type": "code",
   "execution_count": 40,
   "id": "10ac21a0",
   "metadata": {},
   "outputs": [
    {
     "data": {
      "text/plain": [
       "10"
      ]
     },
     "execution_count": 40,
     "metadata": {},
     "output_type": "execute_result"
    }
   ],
   "source": [
    "sum(arr1)"
   ]
  },
  {
   "cell_type": "code",
   "execution_count": 41,
   "id": "5072fb13",
   "metadata": {},
   "outputs": [
    {
     "data": {
      "text/plain": [
       "10"
      ]
     },
     "execution_count": 41,
     "metadata": {},
     "output_type": "execute_result"
    }
   ],
   "source": [
    "np.sum(arr1)"
   ]
  },
  {
   "cell_type": "markdown",
   "id": "80d2f48f",
   "metadata": {},
   "source": [
    "### Use Python methods on Python data types, use NumPy's methods to NumPy arrays"
   ]
  },
  {
   "cell_type": "code",
   "execution_count": 43,
   "id": "582a3733",
   "metadata": {},
   "outputs": [
    {
     "data": {
      "text/plain": [
       "100000"
      ]
     },
     "execution_count": 43,
     "metadata": {},
     "output_type": "execute_result"
    }
   ],
   "source": [
    "massive_array = np.random.random(100000)\n",
    "\n",
    "massive_array.size"
   ]
  },
  {
   "cell_type": "code",
   "execution_count": 45,
   "id": "f2bb5f89",
   "metadata": {},
   "outputs": [
    {
     "data": {
      "text/plain": [
       "array([0.3804489 , 0.02029841, 0.26981155, 0.03936655, 0.91491511])"
      ]
     },
     "execution_count": 45,
     "metadata": {},
     "output_type": "execute_result"
    }
   ],
   "source": [
    "massive_array[:5]"
   ]
  },
  {
   "cell_type": "code",
   "execution_count": 46,
   "id": "ce1216ac",
   "metadata": {},
   "outputs": [
    {
     "name": "stdout",
     "output_type": "stream",
     "text": [
      "3.9 ms ± 95.5 µs per loop (mean ± std. dev. of 7 runs, 100 loops each)\n",
      "20 µs ± 76.1 ns per loop (mean ± std. dev. of 7 runs, 10,000 loops each)\n"
     ]
    }
   ],
   "source": [
    "%timeit sum(massive_array) # Python sum\n",
    "%timeit np.sum(massive_array) # NumPy sum"
   ]
  },
  {
   "cell_type": "code",
   "execution_count": 48,
   "id": "0e73ff79",
   "metadata": {},
   "outputs": [
    {
     "data": {
      "text/plain": [
       "2.5"
      ]
     },
     "execution_count": 48,
     "metadata": {},
     "output_type": "execute_result"
    }
   ],
   "source": [
    "np.mean(arr1)"
   ]
  },
  {
   "cell_type": "code",
   "execution_count": 49,
   "id": "770deffc",
   "metadata": {},
   "outputs": [
    {
     "data": {
      "text/plain": [
       "1.118033988749895"
      ]
     },
     "execution_count": 49,
     "metadata": {},
     "output_type": "execute_result"
    }
   ],
   "source": [
    "# Standard deviation\n",
    "np.std(arr1)"
   ]
  },
  {
   "cell_type": "code",
   "execution_count": 50,
   "id": "845fac55",
   "metadata": {},
   "outputs": [
    {
     "data": {
      "text/plain": [
       "(array([1, 2, 3, 4]), 1.25)"
      ]
     },
     "execution_count": 50,
     "metadata": {},
     "output_type": "execute_result"
    }
   ],
   "source": [
    "# Variance - measure of the average degree to which numbers differ\n",
    "# highger variance - wider range \n",
    "# lower variance - lower range of numbers\n",
    "arr1, np.var(arr1)"
   ]
  },
  {
   "cell_type": "code",
   "execution_count": 51,
   "id": "514721b2",
   "metadata": {},
   "outputs": [
    {
     "data": {
      "text/plain": [
       "20.25"
      ]
     },
     "execution_count": 51,
     "metadata": {},
     "output_type": "execute_result"
    }
   ],
   "source": [
    "np.var(np.array([1,10]))"
   ]
  },
  {
   "cell_type": "code",
   "execution_count": 52,
   "id": "836376f0",
   "metadata": {},
   "outputs": [
    {
     "data": {
      "text/plain": [
       "0.25"
      ]
     },
     "execution_count": 52,
     "metadata": {},
     "output_type": "execute_result"
    }
   ],
   "source": [
    "np.var(np.array([1,2]))"
   ]
  },
  {
   "cell_type": "code",
   "execution_count": 53,
   "id": "291060a2",
   "metadata": {},
   "outputs": [
    {
     "data": {
      "text/plain": [
       "0.25"
      ]
     },
     "execution_count": 53,
     "metadata": {},
     "output_type": "execute_result"
    }
   ],
   "source": [
    "np.var(np.array([2,1]))"
   ]
  },
  {
   "cell_type": "code",
   "execution_count": 54,
   "id": "45eb2f12",
   "metadata": {},
   "outputs": [
    {
     "data": {
      "text/plain": [
       "1.0"
      ]
     },
     "execution_count": 54,
     "metadata": {},
     "output_type": "execute_result"
    }
   ],
   "source": [
    "np.var(np.array([1,3]))"
   ]
  },
  {
   "cell_type": "code",
   "execution_count": 55,
   "id": "494f30e6",
   "metadata": {},
   "outputs": [
    {
     "data": {
      "text/plain": [
       "0.6666666666666666"
      ]
     },
     "execution_count": 55,
     "metadata": {},
     "output_type": "execute_result"
    }
   ],
   "source": [
    "np.var(np.array([1,2,3]))"
   ]
  },
  {
   "cell_type": "code",
   "execution_count": 56,
   "id": "529cacfd",
   "metadata": {},
   "outputs": [
    {
     "data": {
      "text/plain": [
       "1.25"
      ]
     },
     "execution_count": 56,
     "metadata": {},
     "output_type": "execute_result"
    }
   ],
   "source": [
    "np.var(np.array([1,2,3,4]))"
   ]
  },
  {
   "cell_type": "code",
   "execution_count": 57,
   "id": "f46b8a88",
   "metadata": {},
   "outputs": [
    {
     "data": {
      "text/plain": [
       "2.0"
      ]
     },
     "execution_count": 57,
     "metadata": {},
     "output_type": "execute_result"
    }
   ],
   "source": [
    "np.var(np.array([1,2,3,4,5]))"
   ]
  },
  {
   "cell_type": "code",
   "execution_count": 58,
   "id": "d2cc8494",
   "metadata": {},
   "outputs": [
    {
     "data": {
      "text/plain": [
       "0.5"
      ]
     },
     "execution_count": 58,
     "metadata": {},
     "output_type": "execute_result"
    }
   ],
   "source": [
    "np.std(np.array([1,2]))"
   ]
  },
  {
   "cell_type": "code",
   "execution_count": 59,
   "id": "e830be5e",
   "metadata": {},
   "outputs": [
    {
     "data": {
      "text/plain": [
       "1.0"
      ]
     },
     "execution_count": 59,
     "metadata": {},
     "output_type": "execute_result"
    }
   ],
   "source": [
    "np.std(np.array([1,3]))"
   ]
  },
  {
   "cell_type": "code",
   "execution_count": 60,
   "id": "6eefe4bb",
   "metadata": {},
   "outputs": [
    {
     "data": {
      "text/plain": [
       "0.816496580927726"
      ]
     },
     "execution_count": 60,
     "metadata": {},
     "output_type": "execute_result"
    }
   ],
   "source": [
    "np.std(np.array([1,2,3]))"
   ]
  },
  {
   "cell_type": "code",
   "execution_count": 61,
   "id": "9445c1e1",
   "metadata": {},
   "outputs": [],
   "source": [
    "high_var_arr = np.array([1,100,200,4000,5000])\n",
    "low_var_arr = np.array([2,4,6,8,10])"
   ]
  },
  {
   "cell_type": "code",
   "execution_count": 62,
   "id": "b75e029b",
   "metadata": {},
   "outputs": [
    {
     "data": {
      "text/plain": [
       "(2179.3705880368307, 2.8284271247461903)"
      ]
     },
     "execution_count": 62,
     "metadata": {},
     "output_type": "execute_result"
    }
   ],
   "source": [
    "np.std(high_var_arr),np.std(low_var_arr)"
   ]
  },
  {
   "cell_type": "code",
   "execution_count": 63,
   "id": "e64f0109",
   "metadata": {},
   "outputs": [
    {
     "data": {
      "text/plain": [
       "(4749656.16, 8.0)"
      ]
     },
     "execution_count": 63,
     "metadata": {},
     "output_type": "execute_result"
    }
   ],
   "source": [
    "np.var(high_var_arr),np.var(low_var_arr)"
   ]
  },
  {
   "cell_type": "code",
   "execution_count": 64,
   "id": "4d929439",
   "metadata": {},
   "outputs": [
    {
     "data": {
      "text/plain": [
       "(1860.2, 6.0)"
      ]
     },
     "execution_count": 64,
     "metadata": {},
     "output_type": "execute_result"
    }
   ],
   "source": [
    "np.mean(high_var_arr), np.mean(low_var_arr)"
   ]
  },
  {
   "cell_type": "code",
   "execution_count": 65,
   "id": "4771d328",
   "metadata": {},
   "outputs": [
    {
     "data": {
      "image/png": "[encoded data removed]",
      "text/plain": [
       "<Figure size 640x480 with 1 Axes>"
      ]
     },
     "metadata": {},
     "output_type": "display_data"
    }
   ],
   "source": [
    "%matplotlib inline\n",
    "import matplotlib.pyplot as plt\n",
    "\n",
    "plt.hist(high_var_arr)\n",
    "plt.show()"
   ]
  },
  {
   "cell_type": "code",
   "execution_count": 66,
   "id": "646e59a8",
   "metadata": {},
   "outputs": [
    {
     "data": {
      "image/png": "[encoded data removed]",
      "text/plain": [
       "<Figure size 640x480 with 1 Axes>"
      ]
     },
     "metadata": {},
     "output_type": "display_data"
    }
   ],
   "source": [
    "%matplotlib inline\n",
    "import matplotlib.pyplot as plt\n",
    "\n",
    "plt.hist(low_var_arr)\n",
    "plt.show()"
   ]
  },
  {
   "cell_type": "markdown",
   "id": "9b1f0a56",
   "metadata": {},
   "source": [
    "# Reshape & Transpose"
   ]
  },
  {
   "cell_type": "code",
   "execution_count": 67,
   "id": "ce34861c",
   "metadata": {},
   "outputs": [
    {
     "data": {
      "text/plain": [
       "array([9, 8, 7, 6])"
      ]
     },
     "execution_count": 67,
     "metadata": {},
     "output_type": "execute_result"
    }
   ],
   "source": [
    "arr2"
   ]
  },
  {
   "cell_type": "code",
   "execution_count": 68,
   "id": "5f338b64",
   "metadata": {},
   "outputs": [],
   "source": [
    "a2 = np.array([[1,2,3.3],[4,5,6.5]])"
   ]
  },
  {
   "cell_type": "code",
   "execution_count": 69,
   "id": "abe33787",
   "metadata": {},
   "outputs": [
    {
     "data": {
      "text/plain": [
       "(2, 3)"
      ]
     },
     "execution_count": 69,
     "metadata": {},
     "output_type": "execute_result"
    }
   ],
   "source": [
    "a2.shape"
   ]
  },
  {
   "cell_type": "code",
   "execution_count": 75,
   "id": "5a438a66",
   "metadata": {},
   "outputs": [],
   "source": [
    "a3 = np.array([\n",
    "    [[1,2,3.3],[4,5,6.5],[7,8,8.8]],\n",
    "    [[1,2,3.3],[4,5,6.5],[7,8,8.8]]\n",
    "])"
   ]
  },
  {
   "cell_type": "code",
   "execution_count": 76,
   "id": "c6bdd6a9",
   "metadata": {},
   "outputs": [
    {
     "data": {
      "text/plain": [
       "(2, 3, 3)"
      ]
     },
     "execution_count": 76,
     "metadata": {},
     "output_type": "execute_result"
    }
   ],
   "source": [
    "a3.shape"
   ]
  },
  {
   "cell_type": "code",
   "execution_count": 77,
   "id": "5c7a1394",
   "metadata": {},
   "outputs": [
    {
     "ename": "ValueError",
     "evalue": "operands could not be broadcast together with shapes (2,3) (2,3,3) ",
     "output_type": "error",
     "traceback": [
      "\u001b[0;31m---------------------------------------------------------------------------\u001b[0m",
      "\u001b[0;31mValueError\u001b[0m                                Traceback (most recent call last)",
      "Cell \u001b[0;32mIn[77], line 1\u001b[0m\n\u001b[0;32m----> 1\u001b[0m \u001b[43ma2\u001b[49m\u001b[38;5;241;43m*\u001b[39;49m\u001b[43ma3\u001b[49m\n",
      "\u001b[0;31mValueError\u001b[0m: operands could not be broadcast together with shapes (2,3) (2,3,3) "
     ]
    }
   ],
   "source": [
    "a2*a3"
   ]
  },
  {
   "cell_type": "code",
   "execution_count": 78,
   "id": "5fc09d15",
   "metadata": {},
   "outputs": [],
   "source": [
    "a4 = a2.reshape(2,3,1)"
   ]
  },
  {
   "cell_type": "code",
   "execution_count": 79,
   "id": "293aae0e",
   "metadata": {},
   "outputs": [
    {
     "data": {
      "text/plain": [
       "array([[[1. ],\n",
       "        [2. ],\n",
       "        [3.3]],\n",
       "\n",
       "       [[4. ],\n",
       "        [5. ],\n",
       "        [6.5]]])"
      ]
     },
     "execution_count": 79,
     "metadata": {},
     "output_type": "execute_result"
    }
   ],
   "source": [
    "a4"
   ]
  },
  {
   "cell_type": "code",
   "execution_count": 80,
   "id": "34095531",
   "metadata": {},
   "outputs": [
    {
     "data": {
      "text/plain": [
       "('a2:',\n",
       " array([[1. , 2. , 3.3],\n",
       "        [4. , 5. , 6.5]]),\n",
       " 'a4:',\n",
       " array([[[1. ],\n",
       "         [2. ],\n",
       "         [3.3]],\n",
       " \n",
       "        [[4. ],\n",
       "         [5. ],\n",
       "         [6.5]]]))"
      ]
     },
     "execution_count": 80,
     "metadata": {},
     "output_type": "execute_result"
    }
   ],
   "source": [
    "\"a2:\",a2,\"a4:\",a4"
   ]
  },
  {
   "cell_type": "code",
   "execution_count": 81,
   "id": "a8dfba17",
   "metadata": {},
   "outputs": [
    {
     "data": {
      "text/plain": [
       "(2, 3, 1)"
      ]
     },
     "execution_count": 81,
     "metadata": {},
     "output_type": "execute_result"
    }
   ],
   "source": [
    "a4.shape"
   ]
  },
  {
   "cell_type": "code",
   "execution_count": 82,
   "id": "2c450c76",
   "metadata": {},
   "outputs": [
    {
     "data": {
      "text/plain": [
       "array([[[ 1.  ,  2.  ,  3.3 ],\n",
       "        [ 8.  , 10.  , 13.  ],\n",
       "        [23.1 , 26.4 , 29.04]],\n",
       "\n",
       "       [[ 4.  ,  8.  , 13.2 ],\n",
       "        [20.  , 25.  , 32.5 ],\n",
       "        [45.5 , 52.  , 57.2 ]]])"
      ]
     },
     "execution_count": 82,
     "metadata": {},
     "output_type": "execute_result"
    }
   ],
   "source": [
    "a3*a4"
   ]
  },
  {
   "cell_type": "markdown",
   "id": "570c9c45",
   "metadata": {},
   "source": [
    "### Transpose"
   ]
  },
  {
   "cell_type": "code",
   "execution_count": 84,
   "id": "744c9544",
   "metadata": {},
   "outputs": [
    {
     "data": {
      "text/plain": [
       "(array([[1. , 2. , 3.3],\n",
       "        [4. , 5. , 6.5]]),\n",
       " array([[1. , 4. ],\n",
       "        [2. , 5. ],\n",
       "        [3.3, 6.5]]))"
      ]
     },
     "execution_count": 84,
     "metadata": {},
     "output_type": "execute_result"
    }
   ],
   "source": [
    "a2, a2.T"
   ]
  },
  {
   "cell_type": "code",
   "execution_count": 85,
   "id": "17a868e1",
   "metadata": {},
   "outputs": [
    {
     "data": {
      "text/plain": [
       "((2, 3), (3, 2))"
      ]
     },
     "execution_count": 85,
     "metadata": {},
     "output_type": "execute_result"
    }
   ],
   "source": [
    "a2.shape, a2.T.shape"
   ]
  },
  {
   "cell_type": "code",
   "execution_count": 2,
   "id": "b365458a",
   "metadata": {},
   "outputs": [
    {
     "ename": "NameError",
     "evalue": "name 'a4' is not defined",
     "output_type": "error",
     "traceback": [
      "\u001b[0;31m---------------------------------------------------------------------------\u001b[0m",
      "\u001b[0;31mNameError\u001b[0m                                 Traceback (most recent call last)",
      "Cell \u001b[0;32mIn[2], line 1\u001b[0m\n\u001b[0;32m----> 1\u001b[0m \u001b[43ma4\u001b[49m\n",
      "\u001b[0;31mNameError\u001b[0m: name 'a4' is not defined"
     ]
    }
   ],
   "source": [
    "a4"
   ]
  },
  {
   "cell_type": "code",
   "execution_count": 9,
   "id": "8b966f14",
   "metadata": {},
   "outputs": [],
   "source": [
    "mat1 = np.random.randint(0,9,(5,3))\n",
    "mat2 = np.random.randint(0,9,(5,3))"
   ]
  },
  {
   "cell_type": "code",
   "execution_count": 10,
   "id": "19510ab8",
   "metadata": {},
   "outputs": [
    {
     "data": {
      "text/plain": [
       "array([[3, 3, 0],\n",
       "       [0, 7, 8],\n",
       "       [8, 1, 2],\n",
       "       [3, 0, 2],\n",
       "       [6, 8, 6]])"
      ]
     },
     "execution_count": 10,
     "metadata": {},
     "output_type": "execute_result"
    }
   ],
   "source": [
    "mat1"
   ]
  },
  {
   "cell_type": "code",
   "execution_count": 11,
   "id": "09cd4d49",
   "metadata": {},
   "outputs": [
    {
     "ename": "ValueError",
     "evalue": "shapes (5,3) and (5,3) not aligned: 3 (dim 1) != 5 (dim 0)",
     "output_type": "error",
     "traceback": [
      "\u001b[0;31m---------------------------------------------------------------------------\u001b[0m",
      "\u001b[0;31mValueError\u001b[0m                                Traceback (most recent call last)",
      "Cell \u001b[0;32mIn[11], line 1\u001b[0m\n\u001b[0;32m----> 1\u001b[0m \u001b[43mnp\u001b[49m\u001b[38;5;241;43m.\u001b[39;49m\u001b[43mdot\u001b[49m\u001b[43m(\u001b[49m\u001b[43mmat1\u001b[49m\u001b[43m,\u001b[49m\u001b[43mmat2\u001b[49m\u001b[43m)\u001b[49m\n",
      "\u001b[0;31mValueError\u001b[0m: shapes (5,3) and (5,3) not aligned: 3 (dim 1) != 5 (dim 0)"
     ]
    }
   ],
   "source": [
    "np.dot(mat1,mat2)"
   ]
  },
  {
   "cell_type": "code",
   "execution_count": 13,
   "id": "375989d5",
   "metadata": {},
   "outputs": [
    {
     "data": {
      "text/plain": [
       "(3, 5)"
      ]
     },
     "execution_count": 13,
     "metadata": {},
     "output_type": "execute_result"
    }
   ],
   "source": [
    "# Transpose mat1\n",
    "mat1.T.shape"
   ]
  },
  {
   "cell_type": "code",
   "execution_count": 15,
   "id": "59989edc",
   "metadata": {},
   "outputs": [
    {
     "data": {
      "text/plain": [
       "array([[ 21,  27,  12,  39,  27],\n",
       "       [ 16,  97,  16,  83,  61],\n",
       "       [ 60,  35,  36,  81,  61],\n",
       "       [ 25,  18,  16,  36,  28],\n",
       "       [ 54, 104,  36, 124,  90]])"
      ]
     },
     "execution_count": 15,
     "metadata": {},
     "output_type": "execute_result"
    }
   ],
   "source": [
    "d = np.dot(mat1, mat2.T)\n",
    "d"
   ]
  },
  {
   "cell_type": "markdown",
   "id": "53f1a6f2",
   "metadata": {},
   "source": [
    "## Dot product execrise - peanut butter store"
   ]
  },
  {
   "cell_type": "code",
   "execution_count": 17,
   "id": "ab75a35b",
   "metadata": {},
   "outputs": [
    {
     "data": {
      "text/plain": [
       "array([[12, 15,  0],\n",
       "       [ 3,  3,  7],\n",
       "       [ 9, 19, 18],\n",
       "       [ 4,  6, 12],\n",
       "       [ 1,  6,  7]])"
      ]
     },
     "execution_count": 17,
     "metadata": {},
     "output_type": "execute_result"
    }
   ],
   "source": [
    "np.random.seed(0)\n",
    "# Number of jars sold\n",
    "sales_amounts = np.random.randint(20, size=(5,3))\n",
    "sales_amounts"
   ]
  },
  {
   "cell_type": "code",
   "execution_count": 22,
   "id": "4ef07ce0",
   "metadata": {},
   "outputs": [
    {
     "data": {
      "text/html": [
       "<div>\n",
       "<style scoped>\n",
       "    .dataframe tbody tr th:only-of-type {\n",
       "        vertical-align: middle;\n",
       "    }\n",
       "\n",
       "    .dataframe tbody tr th {\n",
       "        vertical-align: top;\n",
       "    }\n",
       "\n",
       "    .dataframe thead th {\n",
       "        text-align: right;\n",
       "    }\n",
       "</style>\n",
       "<table border=\"1\" class=\"dataframe\">\n",
       "  <thead>\n",
       "    <tr style=\"text-align: right;\">\n",
       "      <th></th>\n",
       "      <th>Almond butter</th>\n",
       "      <th>Peanut butter</th>\n",
       "      <th>Cashew butter</th>\n",
       "    </tr>\n",
       "  </thead>\n",
       "  <tbody>\n",
       "    <tr>\n",
       "      <th>Mon</th>\n",
       "      <td>12</td>\n",
       "      <td>15</td>\n",
       "      <td>0</td>\n",
       "    </tr>\n",
       "    <tr>\n",
       "      <th>Tue</th>\n",
       "      <td>3</td>\n",
       "      <td>3</td>\n",
       "      <td>7</td>\n",
       "    </tr>\n",
       "    <tr>\n",
       "      <th>Wed</th>\n",
       "      <td>9</td>\n",
       "      <td>19</td>\n",
       "      <td>18</td>\n",
       "    </tr>\n",
       "    <tr>\n",
       "      <th>Thurs</th>\n",
       "      <td>4</td>\n",
       "      <td>6</td>\n",
       "      <td>12</td>\n",
       "    </tr>\n",
       "    <tr>\n",
       "      <th>Fri</th>\n",
       "      <td>1</td>\n",
       "      <td>6</td>\n",
       "      <td>7</td>\n",
       "    </tr>\n",
       "  </tbody>\n",
       "</table>\n",
       "</div>"
      ],
      "text/plain": [
       "       Almond butter  Peanut butter  Cashew butter\n",
       "Mon               12             15              0\n",
       "Tue                3              3              7\n",
       "Wed                9             19             18\n",
       "Thurs              4              6             12\n",
       "Fri                1              6              7"
      ]
     },
     "execution_count": 22,
     "metadata": {},
     "output_type": "execute_result"
    }
   ],
   "source": [
    "# Create weelky sales dataframe\n",
    "days = [\"Mon\", \"Tue\", \"Wed\", \"Thurs\", \"Fri\"]\n",
    "products = [\"Almond butter\", \"Peanut butter\", \"Cashew butter\"]\n",
    "weekly_sales = pd.DataFrame(sales_amounts, columns=products, index=days)\n",
    "weekly_sales\n"
   ]
  },
  {
   "cell_type": "code",
   "execution_count": 25,
   "id": "bf969a96",
   "metadata": {},
   "outputs": [
    {
     "data": {
      "text/plain": [
       "array([10,  8, 12])"
      ]
     },
     "execution_count": 25,
     "metadata": {},
     "output_type": "execute_result"
    }
   ],
   "source": [
    "# Create a prices array\n",
    "prices = np.array([10,8,12])\n",
    "prices"
   ]
  },
  {
   "cell_type": "code",
   "execution_count": 26,
   "id": "e4327ed9",
   "metadata": {},
   "outputs": [
    {
     "data": {
      "text/plain": [
       "(3,)"
      ]
     },
     "execution_count": 26,
     "metadata": {},
     "output_type": "execute_result"
    }
   ],
   "source": [
    "prices.shape"
   ]
  },
  {
   "cell_type": "code",
   "execution_count": 29,
   "id": "58f33554",
   "metadata": {},
   "outputs": [
    {
     "data": {
      "text/plain": [
       "(1, 3)"
      ]
     },
     "execution_count": 29,
     "metadata": {},
     "output_type": "execute_result"
    }
   ],
   "source": [
    "# Need to reshape prices to (3,1), otherwise it will not comply with butter_prices DataFrame\n",
    "prices = prices.reshape(1,3)\n",
    "prices.shape"
   ]
  },
  {
   "cell_type": "code",
   "execution_count": 46,
   "id": "53c0be86",
   "metadata": {},
   "outputs": [
    {
     "data": {
      "text/plain": [
       "array([[10,  8, 12]])"
      ]
     },
     "execution_count": 46,
     "metadata": {},
     "output_type": "execute_result"
    }
   ],
   "source": [
    "prices"
   ]
  },
  {
   "cell_type": "code",
   "execution_count": 50,
   "id": "09feeacb",
   "metadata": {},
   "outputs": [
    {
     "data": {
      "text/plain": [
       "array([[240, 138, 458, 232, 142]])"
      ]
     },
     "execution_count": 50,
     "metadata": {},
     "output_type": "execute_result"
    }
   ],
   "source": [
    "total_sales = prices.dot(sales_amounts.T)\n",
    "total_sales"
   ]
  },
  {
   "cell_type": "code",
   "execution_count": 30,
   "id": "1b1afd67",
   "metadata": {},
   "outputs": [
    {
     "data": {
      "text/html": [
       "<div>\n",
       "<style scoped>\n",
       "    .dataframe tbody tr th:only-of-type {\n",
       "        vertical-align: middle;\n",
       "    }\n",
       "\n",
       "    .dataframe tbody tr th {\n",
       "        vertical-align: top;\n",
       "    }\n",
       "\n",
       "    .dataframe thead th {\n",
       "        text-align: right;\n",
       "    }\n",
       "</style>\n",
       "<table border=\"1\" class=\"dataframe\">\n",
       "  <thead>\n",
       "    <tr style=\"text-align: right;\">\n",
       "      <th></th>\n",
       "      <th>Almond butter</th>\n",
       "      <th>Peanut butter</th>\n",
       "      <th>Cashew butter</th>\n",
       "    </tr>\n",
       "  </thead>\n",
       "  <tbody>\n",
       "    <tr>\n",
       "      <th>Price</th>\n",
       "      <td>10</td>\n",
       "      <td>8</td>\n",
       "      <td>12</td>\n",
       "    </tr>\n",
       "  </tbody>\n",
       "</table>\n",
       "</div>"
      ],
      "text/plain": [
       "       Almond butter  Peanut butter  Cashew butter\n",
       "Price             10              8             12"
      ]
     },
     "execution_count": 30,
     "metadata": {},
     "output_type": "execute_result"
    }
   ],
   "source": [
    "# Create prices DataFrame\n",
    "butter_prices = pd.DataFrame(prices, index=[\"Price\"], columns=[\"Almond butter\", \"Peanut butter\", \"Cashew butter\"])\n",
    "butter_prices"
   ]
  },
  {
   "cell_type": "code",
   "execution_count": 51,
   "id": "af51e9ea",
   "metadata": {},
   "outputs": [
    {
     "data": {
      "text/html": [
       "<div>\n",
       "<style scoped>\n",
       "    .dataframe tbody tr th:only-of-type {\n",
       "        vertical-align: middle;\n",
       "    }\n",
       "\n",
       "    .dataframe tbody tr th {\n",
       "        vertical-align: top;\n",
       "    }\n",
       "\n",
       "    .dataframe thead th {\n",
       "        text-align: right;\n",
       "    }\n",
       "</style>\n",
       "<table border=\"1\" class=\"dataframe\">\n",
       "  <thead>\n",
       "    <tr style=\"text-align: right;\">\n",
       "      <th></th>\n",
       "      <th>Almond butter</th>\n",
       "      <th>Peanut butter</th>\n",
       "      <th>Cashew butter</th>\n",
       "    </tr>\n",
       "  </thead>\n",
       "  <tbody>\n",
       "    <tr>\n",
       "      <th>Mon</th>\n",
       "      <td>12</td>\n",
       "      <td>15</td>\n",
       "      <td>0</td>\n",
       "    </tr>\n",
       "    <tr>\n",
       "      <th>Tue</th>\n",
       "      <td>3</td>\n",
       "      <td>3</td>\n",
       "      <td>7</td>\n",
       "    </tr>\n",
       "    <tr>\n",
       "      <th>Wed</th>\n",
       "      <td>9</td>\n",
       "      <td>19</td>\n",
       "      <td>18</td>\n",
       "    </tr>\n",
       "    <tr>\n",
       "      <th>Thurs</th>\n",
       "      <td>4</td>\n",
       "      <td>6</td>\n",
       "      <td>12</td>\n",
       "    </tr>\n",
       "    <tr>\n",
       "      <th>Fri</th>\n",
       "      <td>1</td>\n",
       "      <td>6</td>\n",
       "      <td>7</td>\n",
       "    </tr>\n",
       "  </tbody>\n",
       "</table>\n",
       "</div>"
      ],
      "text/plain": [
       "       Almond butter  Peanut butter  Cashew butter\n",
       "Mon               12             15              0\n",
       "Tue                3              3              7\n",
       "Wed                9             19             18\n",
       "Thurs              4              6             12\n",
       "Fri                1              6              7"
      ]
     },
     "execution_count": 51,
     "metadata": {},
     "output_type": "execute_result"
    }
   ],
   "source": [
    "weekly_sales"
   ]
  },
  {
   "cell_type": "code",
   "execution_count": 53,
   "id": "9b0cfaba",
   "metadata": {},
   "outputs": [
    {
     "data": {
      "text/html": [
       "<div>\n",
       "<style scoped>\n",
       "    .dataframe tbody tr th:only-of-type {\n",
       "        vertical-align: middle;\n",
       "    }\n",
       "\n",
       "    .dataframe tbody tr th {\n",
       "        vertical-align: top;\n",
       "    }\n",
       "\n",
       "    .dataframe thead th {\n",
       "        text-align: right;\n",
       "    }\n",
       "</style>\n",
       "<table border=\"1\" class=\"dataframe\">\n",
       "  <thead>\n",
       "    <tr style=\"text-align: right;\">\n",
       "      <th></th>\n",
       "      <th>Mon</th>\n",
       "      <th>Tue</th>\n",
       "      <th>Wed</th>\n",
       "      <th>Thurs</th>\n",
       "      <th>Fri</th>\n",
       "    </tr>\n",
       "  </thead>\n",
       "  <tbody>\n",
       "    <tr>\n",
       "      <th>Price</th>\n",
       "      <td>240</td>\n",
       "      <td>138</td>\n",
       "      <td>458</td>\n",
       "      <td>232</td>\n",
       "      <td>142</td>\n",
       "    </tr>\n",
       "  </tbody>\n",
       "</table>\n",
       "</div>"
      ],
      "text/plain": [
       "       Mon  Tue  Wed  Thurs  Fri\n",
       "Price  240  138  458    232  142"
      ]
     },
     "execution_count": 53,
     "metadata": {},
     "output_type": "execute_result"
    }
   ],
   "source": [
    "daily_sales = butter_prices.dot(weekly_sales.T)\n",
    "daily_sales"
   ]
  },
  {
   "cell_type": "code",
   "execution_count": 56,
   "id": "5651b75a",
   "metadata": {},
   "outputs": [
    {
     "data": {
      "text/html": [
       "<div>\n",
       "<style scoped>\n",
       "    .dataframe tbody tr th:only-of-type {\n",
       "        vertical-align: middle;\n",
       "    }\n",
       "\n",
       "    .dataframe tbody tr th {\n",
       "        vertical-align: top;\n",
       "    }\n",
       "\n",
       "    .dataframe thead th {\n",
       "        text-align: right;\n",
       "    }\n",
       "</style>\n",
       "<table border=\"1\" class=\"dataframe\">\n",
       "  <thead>\n",
       "    <tr style=\"text-align: right;\">\n",
       "      <th></th>\n",
       "      <th>Almond butter</th>\n",
       "      <th>Peanut butter</th>\n",
       "      <th>Cashew butter</th>\n",
       "      <th>Total ($)</th>\n",
       "    </tr>\n",
       "  </thead>\n",
       "  <tbody>\n",
       "    <tr>\n",
       "      <th>Mon</th>\n",
       "      <td>12</td>\n",
       "      <td>15</td>\n",
       "      <td>0</td>\n",
       "      <td>240</td>\n",
       "    </tr>\n",
       "    <tr>\n",
       "      <th>Tue</th>\n",
       "      <td>3</td>\n",
       "      <td>3</td>\n",
       "      <td>7</td>\n",
       "      <td>138</td>\n",
       "    </tr>\n",
       "    <tr>\n",
       "      <th>Wed</th>\n",
       "      <td>9</td>\n",
       "      <td>19</td>\n",
       "      <td>18</td>\n",
       "      <td>458</td>\n",
       "    </tr>\n",
       "    <tr>\n",
       "      <th>Thurs</th>\n",
       "      <td>4</td>\n",
       "      <td>6</td>\n",
       "      <td>12</td>\n",
       "      <td>232</td>\n",
       "    </tr>\n",
       "    <tr>\n",
       "      <th>Fri</th>\n",
       "      <td>1</td>\n",
       "      <td>6</td>\n",
       "      <td>7</td>\n",
       "      <td>142</td>\n",
       "    </tr>\n",
       "  </tbody>\n",
       "</table>\n",
       "</div>"
      ],
      "text/plain": [
       "       Almond butter  Peanut butter  Cashew butter  Total ($)\n",
       "Mon               12             15              0        240\n",
       "Tue                3              3              7        138\n",
       "Wed                9             19             18        458\n",
       "Thurs              4              6             12        232\n",
       "Fri                1              6              7        142"
      ]
     },
     "execution_count": 56,
     "metadata": {},
     "output_type": "execute_result"
    }
   ],
   "source": [
    "weekly_sales[\"Total ($)\"] = daily_sales.T\n",
    "weekly_sales"
   ]
  },
  {
   "cell_type": "markdown",
   "id": "0984c913",
   "metadata": {},
   "source": [
    "# comparison operators"
   ]
  },
  {
   "cell_type": "code",
   "execution_count": 57,
   "id": "51491920",
   "metadata": {},
   "outputs": [],
   "source": [
    "a1 = np.array([1,2,3])\n",
    "a2 = np.array([[5,1,4],[8,1,0]])"
   ]
  },
  {
   "cell_type": "code",
   "execution_count": 58,
   "id": "ddd00906",
   "metadata": {},
   "outputs": [
    {
     "data": {
      "text/plain": [
       "array([[False,  True, False],\n",
       "       [False,  True,  True]])"
      ]
     },
     "execution_count": 58,
     "metadata": {},
     "output_type": "execute_result"
    }
   ],
   "source": [
    "a1 > a2"
   ]
  },
  {
   "cell_type": "code",
   "execution_count": 59,
   "id": "a3711266",
   "metadata": {},
   "outputs": [
    {
     "data": {
      "text/plain": [
       "array([False, False, False])"
      ]
     },
     "execution_count": 59,
     "metadata": {},
     "output_type": "execute_result"
    }
   ],
   "source": [
    "a1 > 5"
   ]
  },
  {
   "cell_type": "code",
   "execution_count": 60,
   "id": "3c5e46a1",
   "metadata": {},
   "outputs": [
    {
     "data": {
      "text/plain": [
       "array([[False, False, False],\n",
       "       [False, False, False]])"
      ]
     },
     "execution_count": 60,
     "metadata": {},
     "output_type": "execute_result"
    }
   ],
   "source": [
    "a1 == a2"
   ]
  },
  {
   "cell_type": "markdown",
   "id": "4c115467",
   "metadata": {},
   "source": [
    "# sorting arrays"
   ]
  },
  {
   "cell_type": "code",
   "execution_count": 61,
   "id": "e33cf74c",
   "metadata": {},
   "outputs": [
    {
     "data": {
      "text/plain": [
       "array([[13,  8,  9, 19, 16],\n",
       "       [19,  5, 15, 15,  0],\n",
       "       [18,  3, 17, 19, 19],\n",
       "       [19, 14,  7,  0,  1]])"
      ]
     },
     "execution_count": 61,
     "metadata": {},
     "output_type": "execute_result"
    }
   ],
   "source": [
    "arr = np.random.randint(20,size=(4,5))\n",
    "arr"
   ]
  },
  {
   "cell_type": "code",
   "execution_count": 63,
   "id": "80467229",
   "metadata": {},
   "outputs": [
    {
     "data": {
      "text/plain": [
       "array([[ 8,  9, 13, 16, 19],\n",
       "       [ 0,  5, 15, 15, 19],\n",
       "       [ 3, 17, 18, 19, 19],\n",
       "       [ 0,  1,  7, 14, 19]])"
      ]
     },
     "execution_count": 63,
     "metadata": {},
     "output_type": "execute_result"
    }
   ],
   "source": [
    "np.sort(arr)"
   ]
  },
  {
   "cell_type": "code",
   "execution_count": 64,
   "id": "ea1e46fc",
   "metadata": {},
   "outputs": [
    {
     "data": {
      "text/plain": [
       "array([[1, 2, 0, 4, 3],\n",
       "       [4, 1, 2, 3, 0],\n",
       "       [1, 2, 0, 3, 4],\n",
       "       [3, 4, 2, 1, 0]])"
      ]
     },
     "execution_count": 64,
     "metadata": {},
     "output_type": "execute_result"
    }
   ],
   "source": [
    "# show indexes order without actually sorting\n",
    "np.argsort(arr)"
   ]
  },
  {
   "cell_type": "code",
   "execution_count": 70,
   "id": "57838ac0",
   "metadata": {},
   "outputs": [
    {
     "data": {
      "text/plain": [
       "5"
      ]
     },
     "execution_count": 70,
     "metadata": {},
     "output_type": "execute_result"
    }
   ],
   "source": [
    "# find index of the lowest value\n",
    "np.argmin(np.array([3,6,8,2,6,1]))"
   ]
  },
  {
   "cell_type": "code",
   "execution_count": 71,
   "id": "8daba74d",
   "metadata": {},
   "outputs": [
    {
     "data": {
      "text/plain": [
       "array([[13,  8,  9, 19, 16],\n",
       "       [19,  5, 15, 15,  0],\n",
       "       [18,  3, 17, 19, 19],\n",
       "       [19, 14,  7,  0,  1]])"
      ]
     },
     "execution_count": 71,
     "metadata": {},
     "output_type": "execute_result"
    }
   ],
   "source": [
    "arr"
   ]
  },
  {
   "cell_type": "code",
   "execution_count": 72,
   "id": "d618c3e3",
   "metadata": {},
   "outputs": [
    {
     "data": {
      "text/plain": [
       "9"
      ]
     },
     "execution_count": 72,
     "metadata": {},
     "output_type": "execute_result"
    }
   ],
   "source": [
    "# in case of multi-dimensional array, it joins the indexes of all arrays\n",
    "np.argmin(arr)"
   ]
  },
  {
   "cell_type": "code",
   "execution_count": 74,
   "id": "a7173295",
   "metadata": {},
   "outputs": [
    {
     "data": {
      "text/plain": [
       "array([0, 2, 3, 3, 1])"
      ]
     },
     "execution_count": 74,
     "metadata": {},
     "output_type": "execute_result"
    }
   ],
   "source": [
    "# find index of min element using vertical axis\n",
    "np.argmin(arr, axis=0)"
   ]
  },
  {
   "cell_type": "code",
   "execution_count": 77,
   "id": "cf1b6af7",
   "metadata": {},
   "outputs": [
    {
     "data": {
      "text/plain": [
       "array([3, 0, 3, 0])"
      ]
     },
     "execution_count": 77,
     "metadata": {},
     "output_type": "execute_result"
    }
   ],
   "source": [
    "np.argmax(arr, axis=1)"
   ]
  },
  {
   "cell_type": "code",
   "execution_count": 78,
   "id": "cfc82451",
   "metadata": {},
   "outputs": [
    {
     "data": {
      "text/plain": [
       "array([1, 3, 2, 0, 2])"
      ]
     },
     "execution_count": 78,
     "metadata": {},
     "output_type": "execute_result"
    }
   ],
   "source": [
    "np.argmax(arr, axis=0)"
   ]
  },
  {
   "cell_type": "code",
   "execution_count": null,
   "id": "44b42872",
   "metadata": {},
   "outputs": [],
   "source": []
  }
 ],
 "metadata": {
  "kernelspec": {
   "display_name": "Python 3 (ipykernel)",
   "language": "python",
   "name": "python3"
  },
  "language_info": {
   "codemirror_mode": {
    "name": "ipython",
    "version": 3
   },
   "file_extension": ".py",
   "mimetype": "text/x-python",
   "name": "python",
   "nbconvert_exporter": "python",
   "pygments_lexer": "ipython3",
   "version": "3.10.12"
  }
 },
 "nbformat": 4,
 "nbformat_minor": 5
}
